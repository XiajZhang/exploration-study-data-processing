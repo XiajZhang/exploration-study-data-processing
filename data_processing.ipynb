{
 "cells": [
  {
   "cell_type": "markdown",
   "metadata": {},
   "source": [
    "Data Pre-processing"
   ]
  },
  {
   "cell_type": "code",
   "execution_count": 5,
   "metadata": {},
   "outputs": [],
   "source": [
    "# Import the packages\n",
    "import pandas as pd\n",
    "import statistics\n",
    "import os\n",
    "import warnings"
   ]
  },
  {
   "cell_type": "code",
   "execution_count": 9,
   "metadata": {},
   "outputs": [],
   "source": [
    "# Utility functions\n",
    "from warnings import WarningMessage\n",
    "\n",
    "\n",
    "def load_csv_file(file_path):\n",
    "    \"\"\"\n",
    "    1. check if file exists\n",
    "    2. if exists, load it into panda dataframe\n",
    "    \"\"\"\n",
    "    if not os.path.exists(file_path):\n",
    "        warnings.warn(\"File doesn't exists; \", file_path)\n",
    "        return None\n",
    "    try:\n",
    "        dataframe = pd.read_csv(file_path)\n",
    "    except:\n",
    "        warnings.warn(\"Something went wrong loading the file: \", file_path)\n",
    "    \n",
    "    return dataframe\n",
    "\n",
    "\n",
    "def get_child_id(child_name, all_participants):\n",
    "    \"\"\"\n",
    "    1. for some surveys, we asked the parents to write the child's name; however, some wrote the full name, some wrote first name\n",
    "    2. given a child's name, we could find matches in \"all_participants\" doc and get the unique child id they have\n",
    "    This function is helpful for identifying each child by their id\n",
    "\n",
    "        input: 1. child name (first name or full name) 2. all_participant data frame\n",
    "        output: a child id in the form cXXX\n",
    "    \"\"\"\n",
    "    pass"
   ]
  },
  {
   "cell_type": "code",
   "execution_count": null,
   "metadata": {},
   "outputs": [],
   "source": [
    "# Data processing - GRTR\n",
    "#   Get Ready To Read Screener is a 20 items test, the score is the correct number of items; 0 <= score <= 20\n",
    "#   Within the csv file, the row where the child's name is 'Answers' has all the correct answer for each question\n",
    "#   Calculate the score for each child based on the correct answers\n",
    "\n",
    "GRTR_PATH = os.path.join(os.getcwd(), \"data\", \"grtr.csv\")\n",
    "\n",
    "# READ GRTR FILE\n",
    "child_grtr_data = load_csv_file(GRTR_PATH)\n",
    "\n",
    "# Modify the columns\n",
    "original_columns = child_grtr_data.columns\n",
    "print(original_columns)\n",
    "new_columns = list(original_columns[:2]) + list(range(1, 21))\n",
    "child_grtr_data.columns = new_columns\n",
    "\n",
    "# Process each row of child's answer and convert them into a score based on correctness\n",
    "real_answers = list(child_grtr_data[child_grtr_data['Child Name'] == 'Answers'][child_grtr_data.columns[2:]].values[0])\n",
    "print(real_answers)\n",
    "\n",
    "score_list = []\n",
    "for index, row in child_grtr_data.iterrows():\n",
    "    # Iterate Over Each Child's Row\n",
    "    print(\"Row Number: \", index)\n",
    "    print(\"Child Name: \", row['Child Name'])\n",
    "    \n",
    "    # TODO: Get each child's answers, just like how we got the correct answers\n",
    "    current_child_answer = None\n",
    "\n",
    "    # TODO: Compare the child's answer list with the real_answer\n",
    "    child_score = 0\n",
    "    \n",
    "    # TODO: Add current child's score into the score list\n",
    "    score_list.append(child_score)\n",
    "\n",
    "# Add the score list to original dataframe\n",
    "child_grtr_data['Final Score'] = score_list\n",
    "# print(\"Final Scores:\")\n",
    "# print(child_grtr_data.head(5))"
   ]
  },
  {
   "cell_type": "code",
   "execution_count": null,
   "metadata": {},
   "outputs": [],
   "source": []
  },
  {
   "cell_type": "code",
   "execution_count": null,
   "metadata": {},
   "outputs": [],
   "source": []
  }
 ],
 "metadata": {
  "kernelspec": {
   "display_name": "Python 3.8.11 ('base')",
   "language": "python",
   "name": "python3"
  },
  "language_info": {
   "codemirror_mode": {
    "name": "ipython",
    "version": 3
   },
   "file_extension": ".py",
   "mimetype": "text/x-python",
   "name": "python",
   "nbconvert_exporter": "python",
   "pygments_lexer": "ipython3",
   "version": "3.8.11"
  },
  "orig_nbformat": 4,
  "vscode": {
   "interpreter": {
    "hash": "aa67ecb9d663a1a3157d0240e9af4a66eedcd4c91d9e577eeade2e3f5817dfc8"
   }
  }
 },
 "nbformat": 4,
 "nbformat_minor": 2
}
