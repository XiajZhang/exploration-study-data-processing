{
 "cells": [
  {
   "cell_type": "markdown",
   "metadata": {},
   "source": [
    "Data Pre-processing"
   ]
  },
  {
   "cell_type": "code",
   "execution_count": null,
   "metadata": {},
   "outputs": [],
   "source": [
    "# Import the packages\n",
    "import pandas as pd\n",
    "import statistics\n",
    "import os"
   ]
  },
  {
   "cell_type": "code",
   "execution_count": 1,
   "metadata": {},
   "outputs": [],
   "source": [
    "# Utility functions\n",
    "def load_csv_file(file_path):\n",
    "    \"\"\"\n",
    "    1. check if file exists\n",
    "    2. if exists, load it into panda dataframe\n",
    "    \"\"\"\n",
    "    pass\n",
    "\n",
    "\n",
    "def get_child_id(child_name, all_participants):\n",
    "    \"\"\"\n",
    "    1. for some surveys, we asked the parents to write the child's name; however, some wrote the full name, some wrote first name\n",
    "    2. given a child's name, we could find matches in \"all_participants\" doc and get the unique child id they have\n",
    "    This function is helpful for identifying each child by their id\n",
    "\n",
    "        input: 1. child name (first name or full name) 2. all_participant data frame\n",
    "        output: a child id in the form cXXX\n",
    "    \"\"\"\n",
    "    pass"
   ]
  },
  {
   "cell_type": "code",
   "execution_count": null,
   "metadata": {},
   "outputs": [],
   "source": [
    "# Data processing - GRTR\n",
    "#   Get Ready To Read Screener is a 20 items test, the score is the correct number of items; 0 <= score <= 20\n",
    "#   Within the csv file, the row where the child's name is 'Answers' has all the correct answer for each question\n",
    "#   Calculate the score for each child based on the correct answers\n",
    "\n",
    "GRTR_PATH = os.path.join(os.getcwd(), \"data\", \"grtr.csv\")\n",
    "\n",
    "# TODO 1: READ GRTR FILE\n",
    "\n",
    "# TODO 2: Process each row of child's answer and convert them into a score based on correctness\n",
    "\n",
    "# TODO 3: Match each child's score to their child id"
   ]
  }
 ],
 "metadata": {
  "kernelspec": {
   "display_name": "Python 3.8.11 ('base')",
   "language": "python",
   "name": "python3"
  },
  "language_info": {
   "codemirror_mode": {
    "name": "ipython",
    "version": 3
   },
   "file_extension": ".py",
   "mimetype": "text/x-python",
   "name": "python",
   "nbconvert_exporter": "python",
   "pygments_lexer": "ipython3",
   "version": "3.8.11"
  },
  "orig_nbformat": 4,
  "vscode": {
   "interpreter": {
    "hash": "aa67ecb9d663a1a3157d0240e9af4a66eedcd4c91d9e577eeade2e3f5817dfc8"
   }
  }
 },
 "nbformat": 4,
 "nbformat_minor": 2
}
